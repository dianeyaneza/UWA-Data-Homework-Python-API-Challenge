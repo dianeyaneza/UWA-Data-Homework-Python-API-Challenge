{
 "cells": [
  {
   "cell_type": "markdown",
   "metadata": {},
   "source": [
    "# VacationPy\n",
    "----\n",
    "\n",
    "#### Note\n",
    "* Keep an eye on your API usage. Use https://developers.google.com/maps/reporting/gmp-reporting as reference for how to monitor your usage and billing.\n",
    "\n",
    "* Instructions have been included for each segment. You do not have to follow them exactly, but they are included to help you think through the steps."
   ]
  },
  {
   "cell_type": "code",
   "execution_count": 1,
   "metadata": {},
   "outputs": [],
   "source": [
    "%matplotlib inline\n",
    "# Dependencies and Setup\n",
    "import matplotlib.pyplot as plt\n",
    "import pandas as pd\n",
    "import numpy as np\n",
    "import requests\n",
    "import os\n",
    "import gmaps\n",
    "# Import API key\n",
    "from config import g_key"
   ]
  },
  {
   "cell_type": "markdown",
   "metadata": {},
   "source": [
    "### Store Part I results into DataFrame\n",
    "* Load the csv exported in Part I to a DataFrame"
   ]
  },
  {
   "cell_type": "code",
   "execution_count": 2,
   "metadata": {},
   "outputs": [
    {
     "output_type": "execute_result",
     "data": {
      "text/plain": [
       "     Unnamed: 0                    City      Lat       Lng  Max Temperature  \\\n",
       "0             0              bredasdorp -34.5322   20.0403            26.00   \n",
       "1             1                  tungor  53.3808  142.9564           -31.80   \n",
       "2             2                   bluff -46.6000  168.3333            14.41   \n",
       "3             3                 guanica  17.9716  -66.9080            27.78   \n",
       "4             4                  hasaki  35.7333  140.8333             4.00   \n",
       "..          ...                     ...      ...       ...              ...   \n",
       "554         554          cap malheureux -19.9842   57.6142            27.22   \n",
       "555         555  vila nova de milfontes  37.7238   -8.7828            16.67   \n",
       "556         556               ambovombe -25.1667   46.0833            28.16   \n",
       "557         557             san quintin  30.4833 -115.9500            16.35   \n",
       "558         558      puerto del rosario  28.5004  -13.8627            19.00   \n",
       "\n",
       "     Humidity  Cloudiness  Wind Speed Country        Date  \n",
       "0          41           0        4.63      ZA  1612278813  \n",
       "1          84         100        6.87      RU  1612278813  \n",
       "2          90          56        2.14      NZ  1612278814  \n",
       "3          63          18        3.13      PR  1612278814  \n",
       "4          52          20        2.57      JP  1612278814  \n",
       "..        ...         ...         ...     ...         ...  \n",
       "554        74           1        3.13      MU  1612278888  \n",
       "555        59          31        2.68      PT  1612278888  \n",
       "556        76           0        6.49      MG  1612278888  \n",
       "557        68         100        3.42      MX  1612278889  \n",
       "558        77          40        3.09      ES  1612278889  \n",
       "\n",
       "[559 rows x 10 columns]"
      ],
      "text/html": "<div>\n<style scoped>\n    .dataframe tbody tr th:only-of-type {\n        vertical-align: middle;\n    }\n\n    .dataframe tbody tr th {\n        vertical-align: top;\n    }\n\n    .dataframe thead th {\n        text-align: right;\n    }\n</style>\n<table border=\"1\" class=\"dataframe\">\n  <thead>\n    <tr style=\"text-align: right;\">\n      <th></th>\n      <th>Unnamed: 0</th>\n      <th>City</th>\n      <th>Lat</th>\n      <th>Lng</th>\n      <th>Max Temperature</th>\n      <th>Humidity</th>\n      <th>Cloudiness</th>\n      <th>Wind Speed</th>\n      <th>Country</th>\n      <th>Date</th>\n    </tr>\n  </thead>\n  <tbody>\n    <tr>\n      <th>0</th>\n      <td>0</td>\n      <td>bredasdorp</td>\n      <td>-34.5322</td>\n      <td>20.0403</td>\n      <td>26.00</td>\n      <td>41</td>\n      <td>0</td>\n      <td>4.63</td>\n      <td>ZA</td>\n      <td>1612278813</td>\n    </tr>\n    <tr>\n      <th>1</th>\n      <td>1</td>\n      <td>tungor</td>\n      <td>53.3808</td>\n      <td>142.9564</td>\n      <td>-31.80</td>\n      <td>84</td>\n      <td>100</td>\n      <td>6.87</td>\n      <td>RU</td>\n      <td>1612278813</td>\n    </tr>\n    <tr>\n      <th>2</th>\n      <td>2</td>\n      <td>bluff</td>\n      <td>-46.6000</td>\n      <td>168.3333</td>\n      <td>14.41</td>\n      <td>90</td>\n      <td>56</td>\n      <td>2.14</td>\n      <td>NZ</td>\n      <td>1612278814</td>\n    </tr>\n    <tr>\n      <th>3</th>\n      <td>3</td>\n      <td>guanica</td>\n      <td>17.9716</td>\n      <td>-66.9080</td>\n      <td>27.78</td>\n      <td>63</td>\n      <td>18</td>\n      <td>3.13</td>\n      <td>PR</td>\n      <td>1612278814</td>\n    </tr>\n    <tr>\n      <th>4</th>\n      <td>4</td>\n      <td>hasaki</td>\n      <td>35.7333</td>\n      <td>140.8333</td>\n      <td>4.00</td>\n      <td>52</td>\n      <td>20</td>\n      <td>2.57</td>\n      <td>JP</td>\n      <td>1612278814</td>\n    </tr>\n    <tr>\n      <th>...</th>\n      <td>...</td>\n      <td>...</td>\n      <td>...</td>\n      <td>...</td>\n      <td>...</td>\n      <td>...</td>\n      <td>...</td>\n      <td>...</td>\n      <td>...</td>\n      <td>...</td>\n    </tr>\n    <tr>\n      <th>554</th>\n      <td>554</td>\n      <td>cap malheureux</td>\n      <td>-19.9842</td>\n      <td>57.6142</td>\n      <td>27.22</td>\n      <td>74</td>\n      <td>1</td>\n      <td>3.13</td>\n      <td>MU</td>\n      <td>1612278888</td>\n    </tr>\n    <tr>\n      <th>555</th>\n      <td>555</td>\n      <td>vila nova de milfontes</td>\n      <td>37.7238</td>\n      <td>-8.7828</td>\n      <td>16.67</td>\n      <td>59</td>\n      <td>31</td>\n      <td>2.68</td>\n      <td>PT</td>\n      <td>1612278888</td>\n    </tr>\n    <tr>\n      <th>556</th>\n      <td>556</td>\n      <td>ambovombe</td>\n      <td>-25.1667</td>\n      <td>46.0833</td>\n      <td>28.16</td>\n      <td>76</td>\n      <td>0</td>\n      <td>6.49</td>\n      <td>MG</td>\n      <td>1612278888</td>\n    </tr>\n    <tr>\n      <th>557</th>\n      <td>557</td>\n      <td>san quintin</td>\n      <td>30.4833</td>\n      <td>-115.9500</td>\n      <td>16.35</td>\n      <td>68</td>\n      <td>100</td>\n      <td>3.42</td>\n      <td>MX</td>\n      <td>1612278889</td>\n    </tr>\n    <tr>\n      <th>558</th>\n      <td>558</td>\n      <td>puerto del rosario</td>\n      <td>28.5004</td>\n      <td>-13.8627</td>\n      <td>19.00</td>\n      <td>77</td>\n      <td>40</td>\n      <td>3.09</td>\n      <td>ES</td>\n      <td>1612278889</td>\n    </tr>\n  </tbody>\n</table>\n<p>559 rows × 10 columns</p>\n</div>"
     },
     "metadata": {},
     "execution_count": 2
    }
   ],
   "source": [
    "# Store Part I results into DataFrame\n",
    "# Load the csv exported in Part I to a DataFrame\n",
    "file_to_load = \"../WeatherPy/output_data/cities.csv\"\n",
    "weather_df = pd.read_csv(file_to_load)\n",
    "weather_df"
   ]
  },
  {
   "cell_type": "markdown",
   "metadata": {},
   "source": [
    "### Humidity Heatmap\n",
    "* Configure gmaps.\n",
    "* Use the Lat and Lng as locations and Humidity as the weight.\n",
    "* Add Heatmap layer to map."
   ]
  },
  {
   "cell_type": "code",
   "execution_count": 3,
   "metadata": {},
   "outputs": [
    {
     "output_type": "display_data",
     "data": {
      "text/plain": "Figure(layout=FigureLayout(height='420px'))",
      "application/vnd.jupyter.widget-view+json": {
       "version_major": 2,
       "version_minor": 0,
       "model_id": "df4fd9c0bb2141a4b06263d7278efdae"
      }
     },
     "metadata": {}
    }
   ],
   "source": [
    "# Configure gmaps.\n",
    "gmaps.configure(api_key=g_key)\n",
    "# Use the Lat and Lng as locations \n",
    "locations = weather_df[[\"Lat\", \"Lng\"]]\n",
    "# and Humidity as the weight.\n",
    "humidity = weather_df[\"Humidity\"]\n",
    "\n",
    "# Plot heatmap\n",
    "fig = gmaps.figure(center=(46.0, -5.0), zoom_level=1)\n",
    "# Add Heatmap layer to map.\n",
    "heat_layer = gmaps.heatmap_layer(locations, weights = humidity, dissipating=False, max_intensity=np.max(humidity), point_radius=3)\n",
    "fig.add_layer(heat_layer)\n",
    "fig"
   ]
  },
  {
   "cell_type": "code",
   "execution_count": null,
   "metadata": {},
   "outputs": [],
   "source": []
  },
  {
   "cell_type": "markdown",
   "metadata": {},
   "source": [
    "### Create new DataFrame fitting weather criteria\n",
    "* Narrow down the cities to fit weather conditions.\n",
    "* Drop any rows will null values."
   ]
  },
  {
   "cell_type": "code",
   "execution_count": 4,
   "metadata": {},
   "outputs": [
    {
     "output_type": "execute_result",
     "data": {
      "text/plain": [
       "     Unnamed: 0                City      Lat      Lng  Max Temperature  \\\n",
       "0             0          bredasdorp -34.5322  20.0403            26.00   \n",
       "12           12             salalah  17.0151  54.0924            24.00   \n",
       "22           22               pisco -13.7000 -76.2167            23.00   \n",
       "54           54                puri  19.8000  85.8500            22.00   \n",
       "80           80         antofagasta -23.6500 -70.4000            22.78   \n",
       "132         132  comodoro rivadavia -45.8667 -67.5000            23.00   \n",
       "148         148      port elizabeth -33.9180  25.5701            24.00   \n",
       "195         195                 gat  31.6100  34.7642            22.78   \n",
       "238         238         port alfred -33.5906  26.8910            23.33   \n",
       "244         244            luderitz -26.6481  15.1594            21.40   \n",
       "246         246              alibag  18.6411  72.8792            27.00   \n",
       "285         285            chabahar  25.2919  60.6430            21.69   \n",
       "292         292           tecoanapa  16.5167 -98.7500            26.17   \n",
       "308         308          port blair  11.6667  92.7500            26.12   \n",
       "355         355                faya  18.3851  42.4509            21.00   \n",
       "392         392              dwarka  22.2394  68.9678            22.22   \n",
       "423         423              calama -22.4667 -68.9333            23.00   \n",
       "483         483            pimentel  -6.8367 -79.9342            25.00   \n",
       "516         516        bull savanna  17.8868 -77.5902            25.53   \n",
       "537         537             chicama  -7.8447 -79.1469            22.00   \n",
       "\n",
       "     Humidity  Cloudiness  Wind Speed Country        Date  \n",
       "0          41           0        4.63      ZA  1612278813  \n",
       "12         57           0        1.54      OM  1612278815  \n",
       "22         73           0        4.63      PE  1612278816  \n",
       "54         60           0        0.51      IN  1612278820  \n",
       "80         60           0        4.63      CL  1612278823  \n",
       "132        49           0        2.57      AR  1612278831  \n",
       "148        64           0        9.77      ZA  1612278688  \n",
       "195        52           0        1.10      IL  1612278840  \n",
       "238        77           0        5.81      ZA  1612278846  \n",
       "244        67           0        6.84     NaN  1612278608  \n",
       "246        50           0        3.09      IN  1612278847  \n",
       "285        65           0        4.72      IR  1612278852  \n",
       "292        49           0        1.79      MX  1612278853  \n",
       "308        78           0        5.95      IN  1612278855  \n",
       "355        68           0        5.14      SA  1612278861  \n",
       "392        65           0        5.24      IN  1612278866  \n",
       "423        18           0        2.06      CL  1612278870  \n",
       "483        61           0        4.63      PE  1612278879  \n",
       "516        68           0        2.44      JM  1612278883  \n",
       "537        78           0        4.63      PE  1612278886  "
      ],
      "text/html": "<div>\n<style scoped>\n    .dataframe tbody tr th:only-of-type {\n        vertical-align: middle;\n    }\n\n    .dataframe tbody tr th {\n        vertical-align: top;\n    }\n\n    .dataframe thead th {\n        text-align: right;\n    }\n</style>\n<table border=\"1\" class=\"dataframe\">\n  <thead>\n    <tr style=\"text-align: right;\">\n      <th></th>\n      <th>Unnamed: 0</th>\n      <th>City</th>\n      <th>Lat</th>\n      <th>Lng</th>\n      <th>Max Temperature</th>\n      <th>Humidity</th>\n      <th>Cloudiness</th>\n      <th>Wind Speed</th>\n      <th>Country</th>\n      <th>Date</th>\n    </tr>\n  </thead>\n  <tbody>\n    <tr>\n      <th>0</th>\n      <td>0</td>\n      <td>bredasdorp</td>\n      <td>-34.5322</td>\n      <td>20.0403</td>\n      <td>26.00</td>\n      <td>41</td>\n      <td>0</td>\n      <td>4.63</td>\n      <td>ZA</td>\n      <td>1612278813</td>\n    </tr>\n    <tr>\n      <th>12</th>\n      <td>12</td>\n      <td>salalah</td>\n      <td>17.0151</td>\n      <td>54.0924</td>\n      <td>24.00</td>\n      <td>57</td>\n      <td>0</td>\n      <td>1.54</td>\n      <td>OM</td>\n      <td>1612278815</td>\n    </tr>\n    <tr>\n      <th>22</th>\n      <td>22</td>\n      <td>pisco</td>\n      <td>-13.7000</td>\n      <td>-76.2167</td>\n      <td>23.00</td>\n      <td>73</td>\n      <td>0</td>\n      <td>4.63</td>\n      <td>PE</td>\n      <td>1612278816</td>\n    </tr>\n    <tr>\n      <th>54</th>\n      <td>54</td>\n      <td>puri</td>\n      <td>19.8000</td>\n      <td>85.8500</td>\n      <td>22.00</td>\n      <td>60</td>\n      <td>0</td>\n      <td>0.51</td>\n      <td>IN</td>\n      <td>1612278820</td>\n    </tr>\n    <tr>\n      <th>80</th>\n      <td>80</td>\n      <td>antofagasta</td>\n      <td>-23.6500</td>\n      <td>-70.4000</td>\n      <td>22.78</td>\n      <td>60</td>\n      <td>0</td>\n      <td>4.63</td>\n      <td>CL</td>\n      <td>1612278823</td>\n    </tr>\n    <tr>\n      <th>132</th>\n      <td>132</td>\n      <td>comodoro rivadavia</td>\n      <td>-45.8667</td>\n      <td>-67.5000</td>\n      <td>23.00</td>\n      <td>49</td>\n      <td>0</td>\n      <td>2.57</td>\n      <td>AR</td>\n      <td>1612278831</td>\n    </tr>\n    <tr>\n      <th>148</th>\n      <td>148</td>\n      <td>port elizabeth</td>\n      <td>-33.9180</td>\n      <td>25.5701</td>\n      <td>24.00</td>\n      <td>64</td>\n      <td>0</td>\n      <td>9.77</td>\n      <td>ZA</td>\n      <td>1612278688</td>\n    </tr>\n    <tr>\n      <th>195</th>\n      <td>195</td>\n      <td>gat</td>\n      <td>31.6100</td>\n      <td>34.7642</td>\n      <td>22.78</td>\n      <td>52</td>\n      <td>0</td>\n      <td>1.10</td>\n      <td>IL</td>\n      <td>1612278840</td>\n    </tr>\n    <tr>\n      <th>238</th>\n      <td>238</td>\n      <td>port alfred</td>\n      <td>-33.5906</td>\n      <td>26.8910</td>\n      <td>23.33</td>\n      <td>77</td>\n      <td>0</td>\n      <td>5.81</td>\n      <td>ZA</td>\n      <td>1612278846</td>\n    </tr>\n    <tr>\n      <th>244</th>\n      <td>244</td>\n      <td>luderitz</td>\n      <td>-26.6481</td>\n      <td>15.1594</td>\n      <td>21.40</td>\n      <td>67</td>\n      <td>0</td>\n      <td>6.84</td>\n      <td>NaN</td>\n      <td>1612278608</td>\n    </tr>\n    <tr>\n      <th>246</th>\n      <td>246</td>\n      <td>alibag</td>\n      <td>18.6411</td>\n      <td>72.8792</td>\n      <td>27.00</td>\n      <td>50</td>\n      <td>0</td>\n      <td>3.09</td>\n      <td>IN</td>\n      <td>1612278847</td>\n    </tr>\n    <tr>\n      <th>285</th>\n      <td>285</td>\n      <td>chabahar</td>\n      <td>25.2919</td>\n      <td>60.6430</td>\n      <td>21.69</td>\n      <td>65</td>\n      <td>0</td>\n      <td>4.72</td>\n      <td>IR</td>\n      <td>1612278852</td>\n    </tr>\n    <tr>\n      <th>292</th>\n      <td>292</td>\n      <td>tecoanapa</td>\n      <td>16.5167</td>\n      <td>-98.7500</td>\n      <td>26.17</td>\n      <td>49</td>\n      <td>0</td>\n      <td>1.79</td>\n      <td>MX</td>\n      <td>1612278853</td>\n    </tr>\n    <tr>\n      <th>308</th>\n      <td>308</td>\n      <td>port blair</td>\n      <td>11.6667</td>\n      <td>92.7500</td>\n      <td>26.12</td>\n      <td>78</td>\n      <td>0</td>\n      <td>5.95</td>\n      <td>IN</td>\n      <td>1612278855</td>\n    </tr>\n    <tr>\n      <th>355</th>\n      <td>355</td>\n      <td>faya</td>\n      <td>18.3851</td>\n      <td>42.4509</td>\n      <td>21.00</td>\n      <td>68</td>\n      <td>0</td>\n      <td>5.14</td>\n      <td>SA</td>\n      <td>1612278861</td>\n    </tr>\n    <tr>\n      <th>392</th>\n      <td>392</td>\n      <td>dwarka</td>\n      <td>22.2394</td>\n      <td>68.9678</td>\n      <td>22.22</td>\n      <td>65</td>\n      <td>0</td>\n      <td>5.24</td>\n      <td>IN</td>\n      <td>1612278866</td>\n    </tr>\n    <tr>\n      <th>423</th>\n      <td>423</td>\n      <td>calama</td>\n      <td>-22.4667</td>\n      <td>-68.9333</td>\n      <td>23.00</td>\n      <td>18</td>\n      <td>0</td>\n      <td>2.06</td>\n      <td>CL</td>\n      <td>1612278870</td>\n    </tr>\n    <tr>\n      <th>483</th>\n      <td>483</td>\n      <td>pimentel</td>\n      <td>-6.8367</td>\n      <td>-79.9342</td>\n      <td>25.00</td>\n      <td>61</td>\n      <td>0</td>\n      <td>4.63</td>\n      <td>PE</td>\n      <td>1612278879</td>\n    </tr>\n    <tr>\n      <th>516</th>\n      <td>516</td>\n      <td>bull savanna</td>\n      <td>17.8868</td>\n      <td>-77.5902</td>\n      <td>25.53</td>\n      <td>68</td>\n      <td>0</td>\n      <td>2.44</td>\n      <td>JM</td>\n      <td>1612278883</td>\n    </tr>\n    <tr>\n      <th>537</th>\n      <td>537</td>\n      <td>chicama</td>\n      <td>-7.8447</td>\n      <td>-79.1469</td>\n      <td>22.00</td>\n      <td>78</td>\n      <td>0</td>\n      <td>4.63</td>\n      <td>PE</td>\n      <td>1612278886</td>\n    </tr>\n  </tbody>\n</table>\n</div>"
     },
     "metadata": {},
     "execution_count": 4
    }
   ],
   "source": [
    "# Narrow down the cities to fit weather conditions\n",
    "## A max temperature lower than 80 degrees but higher than 70.\n",
    "n_cities_df = weather_df[weather_df['Max Temperature'] >= 21]\n",
    "n_cities_df = n_cities_df[weather_df['Max Temperature'] <= 27]\n",
    "## Wind speed less than 10 mph.\n",
    "n_cities_df = n_cities_df[weather_df['Wind Speed'] <= 10]\n",
    "## Zero cloudiness\n",
    "n_cities_df = n_cities_df[weather_df['Cloudiness'] == 0]\n",
    "# Create new DataFrame fitting weather criteria\n",
    "n_cities_df"
   ]
  },
  {
   "cell_type": "markdown",
   "metadata": {},
   "source": [
    "### Hotel Map\n",
    "* Store into variable named `hotel_df`.\n",
    "* Add a \"Hotel Name\" column to the DataFrame.\n",
    "* Set parameters to search for hotels with 5000 meters.\n",
    "* Hit the Google Places API for each city's coordinates.\n",
    "* Store the first Hotel result into the DataFrame.\n",
    "* Plot markers on top of the heatmap."
   ]
  },
  {
   "cell_type": "code",
   "execution_count": 5,
   "metadata": {},
   "outputs": [
    {
     "output_type": "execute_result",
     "data": {
      "text/plain": [
       "    index                City      Lat      Lng Country Hotel Name\n",
       "0       0          bredasdorp -34.5322  20.0403      ZA           \n",
       "1      12             salalah  17.0151  54.0924      OM           \n",
       "2      22               pisco -13.7000 -76.2167      PE           \n",
       "3      54                puri  19.8000  85.8500      IN           \n",
       "4      80         antofagasta -23.6500 -70.4000      CL           \n",
       "5     132  comodoro rivadavia -45.8667 -67.5000      AR           \n",
       "6     148      port elizabeth -33.9180  25.5701      ZA           \n",
       "7     195                 gat  31.6100  34.7642      IL           \n",
       "8     238         port alfred -33.5906  26.8910      ZA           \n",
       "9     244            luderitz -26.6481  15.1594     NaN           \n",
       "10    246              alibag  18.6411  72.8792      IN           \n",
       "11    285            chabahar  25.2919  60.6430      IR           \n",
       "12    292           tecoanapa  16.5167 -98.7500      MX           \n",
       "13    308          port blair  11.6667  92.7500      IN           \n",
       "14    355                faya  18.3851  42.4509      SA           \n",
       "15    392              dwarka  22.2394  68.9678      IN           \n",
       "16    423              calama -22.4667 -68.9333      CL           \n",
       "17    483            pimentel  -6.8367 -79.9342      PE           \n",
       "18    516        bull savanna  17.8868 -77.5902      JM           \n",
       "19    537             chicama  -7.8447 -79.1469      PE           "
      ],
      "text/html": "<div>\n<style scoped>\n    .dataframe tbody tr th:only-of-type {\n        vertical-align: middle;\n    }\n\n    .dataframe tbody tr th {\n        vertical-align: top;\n    }\n\n    .dataframe thead th {\n        text-align: right;\n    }\n</style>\n<table border=\"1\" class=\"dataframe\">\n  <thead>\n    <tr style=\"text-align: right;\">\n      <th></th>\n      <th>index</th>\n      <th>City</th>\n      <th>Lat</th>\n      <th>Lng</th>\n      <th>Country</th>\n      <th>Hotel Name</th>\n    </tr>\n  </thead>\n  <tbody>\n    <tr>\n      <th>0</th>\n      <td>0</td>\n      <td>bredasdorp</td>\n      <td>-34.5322</td>\n      <td>20.0403</td>\n      <td>ZA</td>\n      <td></td>\n    </tr>\n    <tr>\n      <th>1</th>\n      <td>12</td>\n      <td>salalah</td>\n      <td>17.0151</td>\n      <td>54.0924</td>\n      <td>OM</td>\n      <td></td>\n    </tr>\n    <tr>\n      <th>2</th>\n      <td>22</td>\n      <td>pisco</td>\n      <td>-13.7000</td>\n      <td>-76.2167</td>\n      <td>PE</td>\n      <td></td>\n    </tr>\n    <tr>\n      <th>3</th>\n      <td>54</td>\n      <td>puri</td>\n      <td>19.8000</td>\n      <td>85.8500</td>\n      <td>IN</td>\n      <td></td>\n    </tr>\n    <tr>\n      <th>4</th>\n      <td>80</td>\n      <td>antofagasta</td>\n      <td>-23.6500</td>\n      <td>-70.4000</td>\n      <td>CL</td>\n      <td></td>\n    </tr>\n    <tr>\n      <th>5</th>\n      <td>132</td>\n      <td>comodoro rivadavia</td>\n      <td>-45.8667</td>\n      <td>-67.5000</td>\n      <td>AR</td>\n      <td></td>\n    </tr>\n    <tr>\n      <th>6</th>\n      <td>148</td>\n      <td>port elizabeth</td>\n      <td>-33.9180</td>\n      <td>25.5701</td>\n      <td>ZA</td>\n      <td></td>\n    </tr>\n    <tr>\n      <th>7</th>\n      <td>195</td>\n      <td>gat</td>\n      <td>31.6100</td>\n      <td>34.7642</td>\n      <td>IL</td>\n      <td></td>\n    </tr>\n    <tr>\n      <th>8</th>\n      <td>238</td>\n      <td>port alfred</td>\n      <td>-33.5906</td>\n      <td>26.8910</td>\n      <td>ZA</td>\n      <td></td>\n    </tr>\n    <tr>\n      <th>9</th>\n      <td>244</td>\n      <td>luderitz</td>\n      <td>-26.6481</td>\n      <td>15.1594</td>\n      <td>NaN</td>\n      <td></td>\n    </tr>\n    <tr>\n      <th>10</th>\n      <td>246</td>\n      <td>alibag</td>\n      <td>18.6411</td>\n      <td>72.8792</td>\n      <td>IN</td>\n      <td></td>\n    </tr>\n    <tr>\n      <th>11</th>\n      <td>285</td>\n      <td>chabahar</td>\n      <td>25.2919</td>\n      <td>60.6430</td>\n      <td>IR</td>\n      <td></td>\n    </tr>\n    <tr>\n      <th>12</th>\n      <td>292</td>\n      <td>tecoanapa</td>\n      <td>16.5167</td>\n      <td>-98.7500</td>\n      <td>MX</td>\n      <td></td>\n    </tr>\n    <tr>\n      <th>13</th>\n      <td>308</td>\n      <td>port blair</td>\n      <td>11.6667</td>\n      <td>92.7500</td>\n      <td>IN</td>\n      <td></td>\n    </tr>\n    <tr>\n      <th>14</th>\n      <td>355</td>\n      <td>faya</td>\n      <td>18.3851</td>\n      <td>42.4509</td>\n      <td>SA</td>\n      <td></td>\n    </tr>\n    <tr>\n      <th>15</th>\n      <td>392</td>\n      <td>dwarka</td>\n      <td>22.2394</td>\n      <td>68.9678</td>\n      <td>IN</td>\n      <td></td>\n    </tr>\n    <tr>\n      <th>16</th>\n      <td>423</td>\n      <td>calama</td>\n      <td>-22.4667</td>\n      <td>-68.9333</td>\n      <td>CL</td>\n      <td></td>\n    </tr>\n    <tr>\n      <th>17</th>\n      <td>483</td>\n      <td>pimentel</td>\n      <td>-6.8367</td>\n      <td>-79.9342</td>\n      <td>PE</td>\n      <td></td>\n    </tr>\n    <tr>\n      <th>18</th>\n      <td>516</td>\n      <td>bull savanna</td>\n      <td>17.8868</td>\n      <td>-77.5902</td>\n      <td>JM</td>\n      <td></td>\n    </tr>\n    <tr>\n      <th>19</th>\n      <td>537</td>\n      <td>chicama</td>\n      <td>-7.8447</td>\n      <td>-79.1469</td>\n      <td>PE</td>\n      <td></td>\n    </tr>\n  </tbody>\n</table>\n</div>"
     },
     "metadata": {},
     "execution_count": 5
    }
   ],
   "source": [
    "# Store into variable named hotel_df.\n",
    "hotel_df = n_cities_df[[\"City\", \"Lat\", \"Lng\", \"Country\"]].reset_index()\n",
    "# Add a \"Hotel Name\" column to the DataFrame.\n",
    "hotel_df[\"Hotel Name\"] = \"\"\n",
    "hotel_df"
   ]
  },
  {
   "cell_type": "code",
   "execution_count": 6,
   "metadata": {},
   "outputs": [],
   "source": [
    "# Set parameters to search for hotels with 5000 meters.\n",
    "params = {\"type\" : \"hotel\",\n",
    "          \"keyword\" : \"hotel\",\n",
    "          \"radius\" : 5000,\n",
    "          \"key\" : g_key}\n",
    "\n",
    "# Hit the Google Places API for each city's coordinates.\n",
    "base_url = \"https://maps.googleapis.com/maps/api/place/nearbysearch/json?\""
   ]
  },
  {
   "cell_type": "code",
   "execution_count": 7,
   "metadata": {},
   "outputs": [],
   "source": [
    "# Store the first Hotel result into the DataFrame."
   ]
  },
  {
   "cell_type": "code",
   "execution_count": 8,
   "metadata": {},
   "outputs": [
    {
     "output_type": "stream",
     "name": "stdout",
     "text": [
      "Retrieving Results for 0.: bredasdorp\n",
      "A hotel within 5000 meters of bredasdorp is Victoria Hotel - Bredasdorp\n",
      "Ending Search...\n",
      "Retrieving Results for 1.: salalah\n",
      "A hotel within 5000 meters of salalah is HYATT SALALAH HOTEL\n",
      "Ending Search...\n",
      "Retrieving Results for 2.: pisco\n",
      "A hotel within 5000 meters of pisco is HOSTAL MIRAMAR\n",
      "Ending Search...\n",
      "Retrieving Results for 3.: puri\n",
      "A hotel within 5000 meters of puri is MAYFAIR Heritage, Puri\n",
      "Ending Search...\n",
      "Retrieving Results for 4.: antofagasta\n",
      "A hotel within 5000 meters of antofagasta is Enjoy Antofagasta Hotel Del Desierto\n",
      "Ending Search...\n",
      "Retrieving Results for 5.: comodoro rivadavia\n",
      "A hotel within 5000 meters of comodoro rivadavia is Comodoro Hotel\n",
      "Ending Search...\n",
      "Retrieving Results for 6.: port elizabeth\n",
      "A hotel within 5000 meters of port elizabeth is The King Edward Hotel\n",
      "Ending Search...\n",
      "Retrieving Results for 7.: gat\n",
      "A hotel within 5000 meters of gat is Desert Gat\n",
      "Ending Search...\n",
      "Retrieving Results for 8.: port alfred\n",
      "A hotel within 5000 meters of port alfred is Royal St Andrews Hotel\n",
      "Ending Search...\n",
      "Retrieving Results for 9.: luderitz\n",
      "A hotel within 5000 meters of luderitz is Prospectors Inn Hotel\n",
      "Ending Search...\n",
      "Retrieving Results for 10.: alibag\n",
      "A hotel within 5000 meters of alibag is Radisson Blu Resort & Spa - Alibaug, India\n",
      "Ending Search...\n",
      "Retrieving Results for 11.: chabahar\n",
      "A hotel within 5000 meters of chabahar is Shahanhotel\n",
      "Ending Search...\n",
      "Retrieving Results for 12.: tecoanapa\n",
      "A hotel within 5000 meters of tecoanapa is Hotel Garapacho\n",
      "Ending Search...\n",
      "Retrieving Results for 13.: port blair\n",
      "A hotel within 5000 meters of port blair is Welcomhotel Bay Island Port Blair\n",
      "Ending Search...\n",
      "Retrieving Results for 14.: faya\n",
      "No Hotel found. Skipping...\n",
      "---------------------------\n",
      "Ending Search...\n",
      "Retrieving Results for 15.: dwarka\n",
      "A hotel within 5000 meters of dwarka is Lemon Tree Premier\n",
      "Ending Search...\n",
      "Retrieving Results for 16.: calama\n",
      "A hotel within 5000 meters of calama is ibis budget Calama\n",
      "Ending Search...\n",
      "Retrieving Results for 17.: pimentel\n",
      "A hotel within 5000 meters of pimentel is Hotel La Posada Del Ingles\n",
      "Ending Search...\n",
      "Retrieving Results for 18.: bull savanna\n",
      "A hotel within 5000 meters of bull savanna is Eves rock away villa\n",
      "Ending Search...\n",
      "Retrieving Results for 19.: chicama\n",
      "A hotel within 5000 meters of chicama is Hospedaje Punta Cana PERU\n",
      "Ending Search...\n"
     ]
    }
   ],
   "source": [
    "for index, row in hotel_df.iterrows():\n",
    "    lat = row[\"Lat\"]\n",
    "    lng = row[\"Lng\"]\n",
    "    city_name = row[\"City\"]\n",
    "    \n",
    "    params[\"location\"] = f\"{lat},{lng}\"\n",
    "    \n",
    "    print(f\"Retrieving Results for {index}.: {city_name}\")\n",
    "    response = requests.get(base_url, params=params).json()\n",
    "    response\n",
    "\n",
    "    results = response['results']\n",
    "\n",
    "   # Store the first Hotel result into the DataFrame.\n",
    "    try:\n",
    "        print(f\"A hotel within 5000 meters of {city_name} is {results[0]['name']}\")\n",
    "        hotel_df.loc[index, \"Hotel Name\"] = results[0]['name']\n",
    "    except (KeyError, IndexError):\n",
    "        print(\"No Hotel found. Skipping...\")\n",
    "        print(\"---------------------------\")\n",
    "    print(\"Ending Search...\")"
   ]
  },
  {
   "cell_type": "code",
   "execution_count": 9,
   "metadata": {},
   "outputs": [],
   "source": [
    "# NOTE: Do not change any of the code in this cell\n",
    "\n",
    "# Using the template add the hotel marks to the heatmap\n",
    "info_box_template = \"\"\"\n",
    "<dl>\n",
    "<dt>Name</dt><dd>{Hotel Name}</dd>\n",
    "<dt>City</dt><dd>{City}</dd>\n",
    "<dt>Country</dt><dd>{Country}</dd>\n",
    "</dl>\n",
    "\"\"\"\n",
    "# Store the DataFrame Row\n",
    "# NOTE: be sure to update with your DataFrame name\n",
    "hotel_info = [info_box_template.format(**row) for index, row in hotel_df.iterrows()]\n",
    "locations = hotel_df[[\"Lat\", \"Lng\"]]"
   ]
  },
  {
   "cell_type": "code",
   "execution_count": 10,
   "metadata": {},
   "outputs": [
    {
     "output_type": "display_data",
     "data": {
      "text/plain": "Figure(layout=FigureLayout(height='420px'))",
      "application/vnd.jupyter.widget-view+json": {
       "version_major": 2,
       "version_minor": 0,
       "model_id": "df4fd9c0bb2141a4b06263d7278efdae"
      }
     },
     "metadata": {}
    }
   ],
   "source": [
    "# Plot markers on top of the heatmap\n",
    "# Add marker layer ontop of heat map\n",
    "markers = gmaps.marker_layer(locations, info_box_content = hotel_info)\n",
    "fig.add_layer(markers)\n",
    "# Display figure\n",
    "fig"
   ]
  },
  {
   "cell_type": "code",
   "execution_count": null,
   "metadata": {},
   "outputs": [],
   "source": [
    "# For Part II, you must include a screenshot of the heatmap you create and include it in your submission.\n",
    "# Screenshots of the maps are saved in output_data folder"
   ]
  }
 ],
 "metadata": {
  "kernelspec": {
   "name": "python3",
   "display_name": "Python 3.6.10 32-bit (conda)",
   "metadata": {
    "interpreter": {
     "hash": "98d147c058c61c260060ece7a5c2e3ac8382090008ff63764f52da05ac08e910"
    }
   }
  },
  "language_info": {
   "codemirror_mode": {
    "name": "ipython",
    "version": 3
   },
   "file_extension": ".py",
   "mimetype": "text/x-python",
   "name": "python",
   "nbconvert_exporter": "python",
   "pygments_lexer": "ipython3",
   "version": "3.6.10-final"
  },
  "latex_envs": {
   "LaTeX_envs_menu_present": true,
   "autoclose": false,
   "autocomplete": true,
   "bibliofile": "biblio.bib",
   "cite_by": "apalike",
   "current_citInitial": 1,
   "eqLabelWithNumbers": true,
   "eqNumInitial": 1,
   "hotkeys": {
    "equation": "Ctrl-E",
    "itemize": "Ctrl-I"
   },
   "labels_anchors": false,
   "latex_user_defs": false,
   "report_style_numbering": false,
   "user_envs_cfg": false
  }
 },
 "nbformat": 4,
 "nbformat_minor": 4
}